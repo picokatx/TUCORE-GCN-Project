{
 "cells": [
  {
   "cell_type": "code",
   "execution_count": 2,
   "metadata": {},
   "outputs": [],
   "source": [
    "import add_path\n",
    "import torch\n",
    "import torch.nn as nn\n",
    "import torch.nn.functional as F\n",
    "import pickle"
   ]
  },
  {
   "cell_type": "code",
   "execution_count": 3,
   "metadata": {},
   "outputs": [
    {
     "name": "stdout",
     "output_type": "stream",
     "text": [
      "d:\\projects\\affect\\TUCORE-GCN\\.venv\\Lib\\site-packages\\dgl\\dgl.dll\n"
     ]
    },
    {
     "name": "stderr",
     "output_type": "stream",
     "text": [
      "The tokenizer class you load from this checkpoint is not the same type as the class this function is called from. It may result in unexpected tokenization. \n",
      "The tokenizer class you load from this checkpoint is 'BertTokenizer'. \n",
      "The class this function is called from is 'SpeakerBertTokenizer'.\n"
     ]
    }
   ],
   "source": [
    "from transformers import pipeline\n",
    "from transformers.pipelines import PIPELINE_REGISTRY\n",
    "from models.BERT.speaker_tokens import SpeakerBertTokenizer\n",
    "from models.BERT.tucorecgcn_bert_pytorch_pipeline import ConversationalSequenceClassificationPipeline\n",
    "from models.BERT.tucoregcn_bert_pytorch import TUCOREGCN_BertForSequenceClassification, TUCOREGCN_BertConfig\n",
    "import os\n",
    "os.environ['CUDA_LAUNCH_BLOCKING'] = \"1\"\n",
    "PIPELINE_REGISTRY.register_pipeline(\n",
    "    \"conversational-sequence-classification\",\n",
    "    pipeline_class=ConversationalSequenceClassificationPipeline\n",
    ")\n",
    "speaker_tokenizer = SpeakerBertTokenizer.from_pretrained('bert-base-uncased')\n",
    "model = TUCOREGCN_BertForSequenceClassification(TUCOREGCN_BertConfig.from_json_file(\"../models/BERT/tucoregcn_bert_mlc.json\"))\n",
    "model.cuda()\n",
    "model.load_state_dict(torch.load(\"../TUCOREGCN_BERT_DialogRE/tucoregcn_pytorch_model.pt\"))\n",
    "model.cuda()\n",
    "classifier = pipeline(\"conversational-sequence-classification\", model=model, tokenizer=speaker_tokenizer, device=\"cuda:0\")"
   ]
  },
  {
   "cell_type": "code",
   "execution_count": 37,
   "metadata": {},
   "outputs": [
    {
     "name": "stdout",
     "output_type": "stream",
     "text": [
      "['LABEL_14'] [0.38450223207473755]\n"
     ]
    }
   ],
   "source": [
    "from models.BERT.tucoregcn_bert_pytorch_processor import SpeakerRelation, Conversation, Message\n",
    "\n",
    "c = Conversation(\n",
    "\tmessages=[\n",
    "\t\tMessage(\"Speaker 1\", \"Howdy! I'm Flowey, Flowey the Flower!\"),\n",
    "\t\tMessage(\"Speaker 2\", \"Hello Flowey.\"),\n",
    "\t],\n",
    "\tspeaker_relations=[\n",
    "\t\tSpeakerRelation(\"Speaker 1\", \"Speaker 2\")\n",
    "\t]\n",
    ")\n",
    "labels, scores, logits = classifier(c).values()\n",
    "print(labels, scores)"
   ]
  }
 ],
 "metadata": {
  "kernelspec": {
   "display_name": ".venv",
   "language": "python",
   "name": "python3"
  },
  "language_info": {
   "codemirror_mode": {
    "name": "ipython",
    "version": 3
   },
   "file_extension": ".py",
   "mimetype": "text/x-python",
   "name": "python",
   "nbconvert_exporter": "python",
   "pygments_lexer": "ipython3",
   "version": "3.11.6"
  }
 },
 "nbformat": 4,
 "nbformat_minor": 2
}
