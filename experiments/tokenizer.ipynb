{
 "cells": [
  {
   "cell_type": "code",
   "execution_count": 1,
   "metadata": {},
   "outputs": [
    {
     "name": "stderr",
     "output_type": "stream",
     "text": [
      "d:\\projects\\affect\\TUCORE-GCN\\.venv\\Lib\\site-packages\\tqdm\\auto.py:21: TqdmWarning: IProgress not found. Please update jupyter and ipywidgets. See https://ipywidgets.readthedocs.io/en/stable/user_install.html\n",
      "  from .autonotebook import tqdm as notebook_tqdm\n"
     ]
    }
   ],
   "source": [
    "import add_path\n",
    "import datasets\n",
    "import random\n",
    "import json"
   ]
  },
  {
   "cell_type": "code",
   "execution_count": 2,
   "metadata": {},
   "outputs": [],
   "source": [
    "from models.BERT.tucoregcn_bert_pytorch_processor import DialogRE\n",
    "dev = DialogRE()\n",
    "gen = dev._generate_examples(\"../datasets/DialogRE/dev.json\", \"dev\")\n"
   ]
  },
  {
   "cell_type": "code",
   "execution_count": 19,
   "metadata": {},
   "outputs": [
    {
     "data": {
      "text/plain": [
       "(3,\n",
       " {'dialog': 'speaker 1, [speaker_2] hi\\n[speaker_3] hi! hey mom.\\n[speaker_4] this is such a great party! 35 years. very impressive, do you guys have any pearls of wisdom?\\n[speaker_2] jack?\\n[speaker_x] : why would you serve food on such a sharp stick?\\n[speaker_3] that’s a good question, dad. that’s a good question…\\n[speaker_4] hmmm…',\n",
       "  'relation': DialogRERelation(speaker_x='[speaker_x]', speaker_y='[speaker_y]', rid=[0, 0, 0, 0, 0, 0, 0, 0, 0, 0, 0, 0, 1, 0, 0, 0, 0, 0, 0, 0, 0, 0, 0, 0, 0, 0, 0, 0, 0, 0, 0, 0, 0, 0, 0, 0])})"
      ]
     },
     "execution_count": 19,
     "metadata": {},
     "output_type": "execute_result"
    }
   ],
   "source": [
    "gen.send(None)"
   ]
  },
  {
   "cell_type": "code",
   "execution_count": 6,
   "metadata": {},
   "outputs": [],
   "source": [
    "\n",
    "class DataProcessor(object):\n",
    "    \"\"\"Base class for data converters for sequence classification data sets.\"\"\"\n",
    "\n",
    "    def get_train_examples(self, data_dir):\n",
    "        \"\"\"Gets a collection of `InputExample`s for the train set.\"\"\"\n",
    "        raise NotImplementedError()\n",
    "\n",
    "    def get_dev_examples(self, data_dir):\n",
    "        \"\"\"Gets a collection of `InputExample`s for the dev set.\"\"\"\n",
    "        raise NotImplementedError()\n",
    "\n",
    "    def get_labels(self):\n",
    "        \"\"\"Gets the list of labels for this data set.\"\"\"\n",
    "        raise NotImplementedError()\n",
    "\n",
    "    @classmethod\n",
    "    def _read_tsv(cls, input_file, quotechar=None):\n",
    "        \"\"\"Reads a tab separated value file.\"\"\"\n",
    "        with open(input_file, \"r\") as f:\n",
    "            #reader = csv.reader(f, delimiter=\"\\t\", quotechar=quotechar)\n",
    "            lines = []\n",
    "            for line in reader:\n",
    "                lines.append(line)\n",
    "            return lines\n",
    "class InputExample(object):\n",
    "    \"\"\"A single training/test example for simple sequence classification.\"\"\"\n",
    "\n",
    "    def __init__(self, guid, text_a, text_b=None, label=None, text_c=None):\n",
    "        \"\"\"Constructs a InputExample.\n",
    "\n",
    "        Args:\n",
    "            guid: Unique id for the example.\n",
    "            text_a: string. The untokenized text of the first sequence. For single\n",
    "            sequence tasks, only this sequence must be specified.\n",
    "            text_b: (Optional) string. The untokenized text of the second sequence.\n",
    "            Only must be specified for sequence pair tasks.\n",
    "            label: (Optional) string. The label of the example. This should be\n",
    "            specified for train and dev examples, but not for test examples.\n",
    "        \"\"\"\n",
    "        self.guid = guid\n",
    "        self.text_a = text_a\n",
    "        self.text_b = text_b\n",
    "        self.text_c = text_c\n",
    "        self.label = label\n",
    "class bertsProcessor(DataProcessor): #bert_s\n",
    "    def __init__(self, src_file, n_class, for_f1c=False):\n",
    "        def is_speaker(a):\n",
    "            a = a.split()\n",
    "            return len(a) == 2 and a[0] == \"speaker\" and a[1].isdigit()\n",
    "        # Marks a speaker as object/subject\n",
    "        def rename(d, x, y):\n",
    "            unused = [\"[unused1]\", \"[unused2]\"]\n",
    "            a = []\n",
    "            if is_speaker(x):\n",
    "                a += [x]\n",
    "            else:\n",
    "                a += [None]\n",
    "            if x != y and is_speaker(y):\n",
    "                a += [y]\n",
    "            else:\n",
    "                a += [None]\n",
    "            for i in range(len(a)):\n",
    "                if a[i] is None:\n",
    "                    continue\n",
    "                d = d.replace(a[i] + \":\", unused[i] + \" :\")\n",
    "                if x == a[i]:\n",
    "                    x = unused[i]\n",
    "                if y == a[i]:\n",
    "                    y = unused[i]\n",
    "            return d, x, y\n",
    "            \n",
    "        random.seed(42)\n",
    "        self.D = [[], [], []]\n",
    "        for sid in range(3):\n",
    "            if for_f1c:\n",
    "                with open(src_file+[\"/dev.json\", \"/test.json\"][sid-1], \"r\", encoding=\"utf8\") as f:\n",
    "                    data = json.load(f)\n",
    "            else:\n",
    "                with open(src_file+[\"/train.json\", \"/dev.json\", \"/test.json\"][sid], \"r\", encoding=\"utf8\") as f:\n",
    "                    data = json.load(f)\n",
    "            if sid == 0 and not for_f1c:\n",
    "                random.shuffle(data)\n",
    "            for i in range(len(data)):\n",
    "                for j in range(len(data[i][1])):\n",
    "                    rid = []\n",
    "                    for k in range(n_class):\n",
    "                        if k+1 in data[i][1][j][\"rid\"]:\n",
    "                            rid += [1]\n",
    "                        else:\n",
    "                            rid += [0]\n",
    "                    if for_f1c:\n",
    "                        for l in range(1, len(data[i][0])+1):\n",
    "                            d, h, t = rename('\\n'.join(data[i][0][:l]).lower(), data[i][1][j][\"x\"].lower(), data[i][1][j][\"y\"].lower())\n",
    "                    else:\n",
    "                        d, h, t = rename('\\n'.join(data[i][0]).lower(), data[i][1][j][\"x\"].lower(), data[i][1][j][\"y\"].lower()) # [f1c]\n",
    "                    d = [d,\n",
    "                         h,\n",
    "                         t,\n",
    "                         rid]\n",
    "                    self.D[sid] += [d]\n",
    "        \n",
    "    def get_train_examples(self, data_dir):\n",
    "        \"\"\"See base class.\"\"\"\n",
    "        return self._create_examples(\n",
    "                self.D[0], \"train\")\n",
    "\n",
    "    def get_test_examples(self, data_dir):\n",
    "        \"\"\"See base class.\"\"\"\n",
    "        return self._create_examples(\n",
    "                self.D[2], \"test\")\n",
    "\n",
    "    def get_dev_examples(self, data_dir):\n",
    "        \"\"\"See base class.\"\"\"\n",
    "        return self._create_examples(\n",
    "                self.D[1], \"dev\")\n",
    "\n",
    "    def get_labels(self):\n",
    "        \"\"\"See base class.\"\"\"\n",
    "        return [str(x) for x in range(2)]\n",
    "\n",
    "    def _create_examples(self, data, set_type):\n",
    "        \"\"\"Creates examples for the training and dev sets.\"\"\"\n",
    "        examples = []\n",
    "        for (i, d) in enumerate(data):\n",
    "            guid = \"%s-%s\" % (set_type, i)\n",
    "            text_a = data[i][0]\n",
    "            text_b = data[i][1]\n",
    "            text_c = data[i][2]\n",
    "            examples.append(InputExample(guid=guid, text_a=text_a, text_b=text_b, label=data[i][3], text_c=text_c))\n",
    "            \n",
    "        return examples"
   ]
  },
  {
   "cell_type": "code",
   "execution_count": null,
   "metadata": {},
   "outputs": [],
   "source": []
  }
 ],
 "metadata": {
  "kernelspec": {
   "display_name": ".venv",
   "language": "python",
   "name": "python3"
  },
  "language_info": {
   "codemirror_mode": {
    "name": "ipython",
    "version": 3
   },
   "file_extension": ".py",
   "mimetype": "text/x-python",
   "name": "python",
   "nbconvert_exporter": "python",
   "pygments_lexer": "ipython3",
   "version": "3.11.6"
  }
 },
 "nbformat": 4,
 "nbformat_minor": 2
}
