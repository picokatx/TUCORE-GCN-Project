{
 "cells": [
  {
   "cell_type": "code",
   "execution_count": 3,
   "metadata": {},
   "outputs": [],
   "source": [
    "import add_path\n",
    "import torch\n",
    "import torch.nn as nn\n",
    "import torch.nn.functional as F\n",
    "import pickle"
   ]
  },
  {
   "cell_type": "code",
   "execution_count": 4,
   "metadata": {},
   "outputs": [
    {
     "data": {
      "text/plain": [
       "TUCOREGCN_BERT(\n",
       "  (bert): BertModel(\n",
       "    (embeddings): BERTEmbeddings(\n",
       "      (word_embeddings): Embedding(30522, 768)\n",
       "      (position_embeddings): Embedding(512, 768)\n",
       "      (token_type_embeddings): Embedding(2, 768)\n",
       "      (speaker_embeddings): Embedding(512, 768)\n",
       "      (LayerNorm): BERTLayerNorm()\n",
       "      (dropout): Dropout(p=0.1, inplace=False)\n",
       "    )\n",
       "    (encoder): BERTEncoder(\n",
       "      (layer): ModuleList(\n",
       "        (0-11): 12 x BERTLayer(\n",
       "          (attention): BERTAttention(\n",
       "            (self): BERTSelfAttention(\n",
       "              (query): Linear(in_features=768, out_features=768, bias=True)\n",
       "              (key): Linear(in_features=768, out_features=768, bias=True)\n",
       "              (value): Linear(in_features=768, out_features=768, bias=True)\n",
       "              (dropout): Dropout(p=0.1, inplace=False)\n",
       "            )\n",
       "            (output): BERTSelfOutput(\n",
       "              (dense): Linear(in_features=768, out_features=768, bias=True)\n",
       "              (LayerNorm): BERTLayerNorm()\n",
       "              (dropout): Dropout(p=0.1, inplace=False)\n",
       "            )\n",
       "          )\n",
       "          (intermediate): BERTIntermediate(\n",
       "            (dense): Linear(in_features=768, out_features=3072, bias=True)\n",
       "          )\n",
       "          (output): BERTOutput(\n",
       "            (dense): Linear(in_features=3072, out_features=768, bias=True)\n",
       "            (LayerNorm): BERTLayerNorm()\n",
       "            (dropout): Dropout(p=0.1, inplace=False)\n",
       "          )\n",
       "        )\n",
       "      )\n",
       "    )\n",
       "    (pooler): BERTPooler(\n",
       "      (dense): Linear(in_features=768, out_features=768, bias=True)\n",
       "      (activation): Tanh()\n",
       "    )\n",
       "  )\n",
       "  (activation): ReLU()\n",
       "  (dropout): Dropout(p=0.1, inplace=False)\n",
       "  (classifier): Linear(in_features=6912, out_features=36, bias=True)\n",
       "  (turnAttention): MultiHeadAttention(\n",
       "    (w_qs): Linear(in_features=768, out_features=768, bias=False)\n",
       "    (w_ks): Linear(in_features=768, out_features=768, bias=False)\n",
       "    (w_vs): Linear(in_features=768, out_features=768, bias=False)\n",
       "    (fc): Linear(in_features=768, out_features=768, bias=False)\n",
       "    (attention): ScaledDotProductAttention(\n",
       "      (dropout): Dropout(p=0.1, inplace=False)\n",
       "    )\n",
       "    (dropout): Dropout(p=0.1, inplace=False)\n",
       "    (layer_norm): LayerNorm((768,), eps=1e-06, elementwise_affine=True)\n",
       "  )\n",
       "  (GCN_layers): ModuleList(\n",
       "    (0-1): 2 x RelGraphConvLayer(\n",
       "      (activation): ReLU()\n",
       "      (conv): HeteroGraphConv(\n",
       "        (mods): ModuleDict(\n",
       "          (speaker): GraphConv(in=768, out=768, normalization=right, activation=None)\n",
       "          (dialog): GraphConv(in=768, out=768, normalization=right, activation=None)\n",
       "          (entity): GraphConv(in=768, out=768, normalization=right, activation=None)\n",
       "        )\n",
       "      )\n",
       "      (dropout): Dropout(p=0.6, inplace=False)\n",
       "    )\n",
       "  )\n",
       "  (LSTM_layers): ModuleList(\n",
       "    (0-1): 2 x TurnLevelLSTM(\n",
       "      (lstm): LSTM(768, 768, num_layers=2, dropout=0.2, bidirectional=True)\n",
       "      (dropout): Dropout(p=0.4, inplace=False)\n",
       "      (bilstm2hiddnesize): Linear(in_features=1536, out_features=768, bias=True)\n",
       "    )\n",
       "  )\n",
       ")"
      ]
     },
     "execution_count": 4,
     "metadata": {},
     "output_type": "execute_result"
    }
   ],
   "source": [
    "from transformers import AutoTokenizer\n",
    "from models.BERT.TUCOREGCN_BERT import TUCOREGCN_BERT, BertConfig\n",
    "tokenizer = AutoTokenizer.from_pretrained(\"bert-base-uncased\")\n",
    "tucore_gcn_bert = TUCOREGCN_BERT(BertConfig.from_json_file(\"../pre-trained_model/BERT/bert_config.json\"), num_labels=36)\n",
    "tucore_gcn_bert.load_state_dict(torch.load(\"../TUCOREGCN_BERT_DialogRE/model_best.pt\", map_location=\"cuda\"))\n",
    "tucore_gcn_bert.cuda()"
   ]
  },
  {
   "cell_type": "code",
   "execution_count": null,
   "metadata": {},
   "outputs": [],
   "source": [
    "from transformers import pipeline, Conversation\n",
    "\n",
    "chatbot = pipeline(model=tucore_gcn_bert, tokenizer=tokenizer)\n",
    "\n",
    "# Conversation objects initialized with a string will treat it as a user message\n",
    "\n",
    "conversation = Conversation(\"I'm looking for a movie - what's your favourite one?\")\n",
    "conversation.add_message({\"role\": \"Speaker 3\", \"content\": \"Is anybody else scared?\"})\n",
    "conversation = chatbot(conversation)\n"
   ]
  }
 ],
 "metadata": {
  "kernelspec": {
   "display_name": ".venv",
   "language": "python",
   "name": "python3"
  },
  "language_info": {
   "codemirror_mode": {
    "name": "ipython",
    "version": 3
   },
   "file_extension": ".py",
   "mimetype": "text/x-python",
   "name": "python",
   "nbconvert_exporter": "python",
   "pygments_lexer": "ipython3",
   "version": "3.11.6"
  }
 },
 "nbformat": 4,
 "nbformat_minor": 2
}
