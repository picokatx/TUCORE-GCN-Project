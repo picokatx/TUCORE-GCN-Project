{
 "cells": [
  {
   "cell_type": "code",
   "execution_count": 1,
   "metadata": {},
   "outputs": [],
   "source": [
    "import torch\n",
    "from transformers import pipeline\n",
    "\n",
    "pipe = pipeline(\"text-generation\", model=\"TinyLlama/TinyLlama-1.1B-Chat-v1.0\", torch_dtype=torch.bfloat16, device_map=\"cuda\")"
   ]
  },
  {
   "cell_type": "code",
   "execution_count": 2,
   "metadata": {},
   "outputs": [],
   "source": [
    "# We use the tokenizer's chat template to format each message - see https://huggingface.co/docs/transformers/main/en/chat_templating\n",
    "messages = [\n",
    "    {\n",
    "        \"role\": \"system\",\n",
    "        \"content\": \"\",\n",
    "    },\n",
    "    {\"role\": \"user\", \"content\": \"You are now multiple unique individuals speaker 1, speaker 2, and speaker 3 with different mindsets. Hold a dynamic conversation on high school life.\"},\n",
    "]\n",
    "prompt = pipe.tokenizer.apply_chat_template(messages, tokenize=False, add_generation_prompt=True)"
   ]
  },
  {
   "cell_type": "code",
   "execution_count": 5,
   "metadata": {},
   "outputs": [
    {
     "name": "stdout",
     "output_type": "stream",
     "text": [
      "<|system|>\n",
      "</s>\n",
      "<|user|>\n",
      "You are now multiple unique individuals speaker 1, speaker 2, and speaker 3 with different mindsets. Hold a dynamic conversation on high school life.</s>\n",
      "<|assistant|>\n",
      "[Speaker 1]\n",
      "Hey, can you summarize the conversation I had with the others about high school life?\n",
      "\n",
      "[Speaker 2]\n",
      "Sure, I'll summarize it for you.\n",
      "\n",
      "[Speaker 1]\n",
      "(excitedly)\n",
      "Oh, great! We're in a group of five people talking about high school life.\n",
      "\n",
      "[Speaker 3]\n",
      "(laughing)\n",
      "Yeah, it's like we're in a podcast.\n",
      "\n",
      "[Speaker 2]\n",
      "(sighs)\n",
      "Yeah, we're all different in our mindsets. I'm the extrovert who loves to socialize and party, while my friend, the introvert, prefers to stay in and read books.\n",
      "\n",
      "[Speaker 1]\n",
      "(laughs)\n",
      "Yeah, we have our differences. But at the same time, we have a lot in common. We're all going through high school together and we're all trying to navigate through life.\n",
      "\n",
      "[Speaker 2]\n",
      "(thinking)\n",
      "Yeah, that's true. And we're all trying to figure out who we are and what we want to do with our lives.\n",
      "\n",
      "[Speaker 3]\n",
      "(smiling)\n",
      "Yeah, and we're also trying to make the most of our high school years.\n",
      "\n",
      "[Speaker 1]\n",
      "(thinking)\n",
      "Exactly. And we're all so diverse, but we're all united in our love for high school.\n",
      "\n",
      "[Speaker 2]\n",
      "(laughing)\n",
      "Yeah, and we're also all excited to start our next chapter in life.\n",
      "\n",
      "[Speaker 3]\n",
      "(nodding)\n",
      "Yes, and we can't wait to see what the future holds for us.\n",
      "\n",
      "[Speaker 1]\n",
      "(smiling)\n",
      "Exactly. That's what makes high school so special, isn't it? We're all going through it together, and we're all trying to figure it out.\n",
      "\n",
      "[Speaker 2]\n",
      "(smiling)\n",
      "Exactly. And we're all ready for whatever the future holds.\n",
      "\n",
      "[Speaker 3]\n",
      "(thinking)\n",
      "Exactly. And that's what makes high school so beautiful.\n",
      "\n",
      "[Speaker 1]\n",
      "(smiling)\n",
      "Exactly. We're all so diverse, but we're also united in our love for high school.\n",
      "\n",
      "[Speaker 2]\n",
      "(laughing)\n",
      "Yeah, and we're all excited to see what the future holds for us.\n",
      "\n",
      "[Speaker 3]\n",
      "(smiling)\n",
      "Exactly. That's what makes high school so special, isn't it?\n",
      "\n",
      "[Speaker 1]\n",
      "(thinking)\n",
      "Yeah, and we're all ready for whatever the future holds.\n",
      "\n",
      "[Speaker 2]\n",
      "(smiling)\n",
      "Exactly. And that's what makes high school so beautiful.\n"
     ]
    }
   ],
   "source": [
    "outputs = pipe(prompt, max_new_tokens=2000, do_sample=True, temperature=0.7, top_k=50, top_p=0.95)\n",
    "print(outputs[0][\"generated_text\"])"
   ]
  },
  {
   "cell_type": "code",
   "execution_count": 3,
   "metadata": {},
   "outputs": [
    {
     "data": {
      "text/plain": [
       "'<|system|>\\n</s>\\n<|user|>\\nYou are now multiple unique individuals speaker 1, speaker 2, and speaker 3 with different mindsets. Hold a dynamic conversation on high school life.</s>\\n<|assistant|>\\n'"
      ]
     },
     "execution_count": 3,
     "metadata": {},
     "output_type": "execute_result"
    }
   ],
   "source": [
    "prompt"
   ]
  },
  {
   "cell_type": "code",
   "execution_count": 4,
   "metadata": {},
   "outputs": [],
   "source": [
    "# We use the tokenizer's chat template to format each message - see https://huggingface.co/docs/transformers/main/en/chat_templating\n",
    "messages = [\n",
    "    {\n",
    "        \"role\": \"system\",\n",
    "        \"content\": \"\",\n",
    "    },\n",
    "    {\"role\": \"user\", \"content\": \"You are now multiple unique individuals speaker 1, speaker 2, and speaker 3 with different mindsets. Hold a dynamic conversation on high school life.\"},\n",
    "    {\"role\": \"assistant\", \"content\": \"Nope\"},\n",
    "    {\"role\": \"user\", \"content\": \"._.\"},\n",
    "]\n",
    "prompt = pipe.tokenizer.apply_chat_template(messages, tokenize=False, add_generation_prompt=True)"
   ]
  },
  {
   "cell_type": "code",
   "execution_count": 5,
   "metadata": {},
   "outputs": [
    {
     "data": {
      "text/plain": [
       "'<|system|>\\n</s>\\n<|user|>\\nYou are now multiple unique individuals speaker 1, speaker 2, and speaker 3 with different mindsets. Hold a dynamic conversation on high school life.</s>\\n<|assistant|>\\nNope</s>\\n<|user|>\\n._.</s>\\n<|assistant|>\\n'"
      ]
     },
     "execution_count": 5,
     "metadata": {},
     "output_type": "execute_result"
    }
   ],
   "source": [
    "prompt"
   ]
  }
 ],
 "metadata": {
  "kernelspec": {
   "display_name": ".venv",
   "language": "python",
   "name": "python3"
  },
  "language_info": {
   "codemirror_mode": {
    "name": "ipython",
    "version": 3
   },
   "file_extension": ".py",
   "mimetype": "text/x-python",
   "name": "python",
   "nbconvert_exporter": "python",
   "pygments_lexer": "ipython3",
   "version": "3.11.6"
  }
 },
 "nbformat": 4,
 "nbformat_minor": 2
}
